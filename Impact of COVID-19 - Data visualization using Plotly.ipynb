{
 "cells": [
  {
   "cell_type": "markdown",
   "metadata": {},
   "source": [
    "# IMPACT OF COVID-19: Data visualisation using Plotly"
   ]
  },
  {
   "cell_type": "markdown",
   "metadata": {},
   "source": [
    "### Global Impact"
   ]
  },
  {
   "cell_type": "code",
   "execution_count": null,
   "metadata": {},
   "outputs": [],
   "source": [
    "from plotly.subplots import make_subplots\n",
    "import plotly.graph_objects as go\n",
    "import pandas as pd\n",
    "\n",
    "df = pd.read_csv('03-03-2020.csv')\n",
    "mean = df['Confirmed'].mean()\n",
    "\n",
    "#Data is slightly altered for visualisation purpose. Real data can be seen while hovering. \n",
    "data_C = [value/df['Confirmed'].sum() for value in  df['Confirmed']]\n",
    "data_D = [value/df['Confirmed'].sum() for value  in df['Deaths']]\n",
    "data_R = [value/df['Confirmed'].sum() for value  in df['Recovered']]\n",
    "\n",
    "hoverdata1 = df['Country/Region'] + \" - \"+ ['Confirmed cases: ' + str(v) for v in df['Confirmed'].tolist()]\n",
    "hoverdata2 = df['Country/Region'] + \" - \"+ ['Death: ' + str(v) for v in df['Deaths'].tolist()]\n",
    "hoverdata3 = df['Country/Region'] + \" - \"+ ['Recovered: ' + str(v) for v in df['Recovered'].tolist()]\n",
    "#text = df['Country/Region']\n",
    "fig = make_subplots()\n",
    "df = pd.read_csv('03-03-2020.csv')\n",
    "fig1 = go.Figure(data=go.Scattergeo(\n",
    "        lon = df['Longitude'],\n",
    "        lat = df['Latitude'],\n",
    "    name = 'Confirmed cases',\n",
    "        hovertext = hoverdata1,\n",
    "        marker = dict(\n",
    "            size =  data_C,\n",
    "            opacity = 0.5,\n",
    "            color = 'blue',\n",
    "            line = dict(\n",
    "                width=0,\n",
    "                color='rgba(102, 102, 102)'\n",
    "            ),\n",
    "        ),\n",
    "        ))\n",
    "\n",
    "fig2 = go.Figure(data=go.Scattergeo(\n",
    "        lon = df['Longitude'],\n",
    "        lat = df['Latitude'],\n",
    "    name = 'Deaths',\n",
    "        hovertext = hoverdata2,\n",
    "        marker = dict(\n",
    "            size =  data_D,\n",
    "            opacity = 0.5,\n",
    "            color = 'red',\n",
    "            line = dict(\n",
    "                width=0,\n",
    "                color='rgba(102, 102, 102)'\n",
    "            ),\n",
    "        ),\n",
    "        ))\n",
    "\n",
    "\n",
    "fig3= go.Figure(data=go.Scattergeo(\n",
    "        lon = df['Longitude'],\n",
    "        lat = df['Latitude'],\n",
    "        hovertext = hoverdata3,\n",
    "     name = 'Recovered',\n",
    "        marker = dict(\n",
    "            size =  data_R,\n",
    "            opacity = 0.5,\n",
    "            color = 'green',\n",
    "            line = dict(\n",
    "                width=0,\n",
    "                color='rgba(102, 102, 102)'\n",
    "            ),\n",
    "        ),\n",
    "        ))\n",
    "\n",
    "fig.add_trace(fig1.data[0])\n",
    "fig.add_trace(fig2.data[0])\n",
    "fig.add_trace(fig3.data[0])\n",
    "\n",
    "fig.update_layout(\n",
    "        title = 'The global impact of COVID-19',\n",
    "    legend=dict(\n",
    "        itemsizing = \"constant\",\n",
    "        font=dict(\n",
    "            family=\"sans-serif\",\n",
    "            size=20,\n",
    "            color=\"black\"\n",
    "        )\n",
    "    )\n",
    ")\n",
    "fig.show()\n"
   ]
  },
  {
   "cell_type": "markdown",
   "metadata": {},
   "source": [
    "### Descriptive analysis on Infected, Recovered and mortality rates"
   ]
  },
  {
   "cell_type": "code",
   "execution_count": null,
   "metadata": {},
   "outputs": [],
   "source": [
    "import plotly.express as px\n",
    "df = pd.read_csv('03-03-2020.csv')\n",
    "fig = px.pie(df, values='Confirmed', names='Country/Region',\n",
    "             title='Infected rates across countries',\n",
    "              hover_data=['Province/State'], labels={'Province/State':'Province/State'})\n",
    "fig.update_traces(textposition='inside')\n",
    "fig.show()"
   ]
  },
  {
   "cell_type": "code",
   "execution_count": null,
   "metadata": {},
   "outputs": [],
   "source": [
    "\n",
    "df = pd.read_excel('exl_china.xlsx')\n",
    "\n",
    "fig = px.pie(df, values='Confirmed', names='Country/Region',\n",
    "             title='Infected rates across countries excluding Mainland China',\n",
    "              hover_data=['Province/State'], labels={'Province/State':'Province/State'})\n",
    "fig.update_traces(textposition='inside')\n",
    "fig.show()"
   ]
  },
  {
   "cell_type": "code",
   "execution_count": null,
   "metadata": {},
   "outputs": [],
   "source": [
    "\n",
    "df = pd.read_csv('03-03-2020.csv')\n",
    "fig = px.bar(df, x='Country/Region', y = 'Deaths', color='Country/Region', title ='Number of reported deaths across countries')\n",
    "fig.show()"
   ]
  },
  {
   "cell_type": "code",
   "execution_count": null,
   "metadata": {},
   "outputs": [],
   "source": [
    "\n",
    "df = pd.read_excel('exl_china.xlsx')\n",
    "fig = px.bar(df, x='Country/Region', y = 'Deaths', color='Country/Region', title ='Number of reported deaths across countries excluding China')\n",
    "fig.show()"
   ]
  },
  {
   "cell_type": "code",
   "execution_count": null,
   "metadata": {},
   "outputs": [],
   "source": [
    "import plotly.express as px\n",
    "import numpy as np\n",
    "df = pd.read_csv('03-03-2020.csv')\n",
    "df[\"world\"] = \"world\" # in order to have a single root node\n",
    "fig = px.treemap(df, path=['world' , 'Country/Region', 'Province/State'], color ='Recovered' ,color_continuous_scale=px.colors.sequential.Viridis,title = 'Recovery rates', values='Recovered')\n",
    "fig.show()"
   ]
  },
  {
   "cell_type": "code",
   "execution_count": null,
   "metadata": {},
   "outputs": [],
   "source": [
    "df = pd.read_excel('exl_china.xlsx')\n",
    "df[\"world\"] = \"world\" # in order to have a single root node\n",
    "fig = px.treemap(df, path=['world', 'Country/Region', 'Province/State'], color ='Recovered' , title = 'Recovery rates excluding China',color_continuous_scale=px.colors.sequential.Viridis,values='Recovered')\n",
    "fig.show()"
   ]
  },
  {
   "cell_type": "markdown",
   "metadata": {},
   "source": [
    "### Timeline analysis"
   ]
  },
  {
   "cell_type": "code",
   "execution_count": null,
   "metadata": {},
   "outputs": [],
   "source": [
    "#Preprocessing\n",
    "data = pd.read_csv('time_series_19-covid-Confirmed.csv')\n",
    "timeline = ['1/22/20', '1/23/20',\n",
    "       '1/24/20', '1/25/20', '1/26/20', '1/27/20', '1/28/20', '1/29/20',\n",
    "       '1/30/20', '1/31/20', '2/1/20', '2/2/20', '2/3/20', '2/4/20', '2/5/20',\n",
    "       '2/6/20', '2/7/20', '2/8/20', '2/9/20', '2/10/20', '2/11/20', '2/12/20',\n",
    "       '2/13/20', '2/14/20', '2/15/20', '2/16/20', '2/17/20', '2/18/20',\n",
    "       '2/19/20', '2/20/20', '2/21/20', '2/22/20', '2/23/20', '2/24/20',\n",
    "       '2/25/20', '2/26/20', '2/27/20', '2/28/20', '2/29/20', '3/1/20',\n",
    "       '3/2/20', '3/3/20'] \n",
    "#list of values to append equal to length of x axis  for plotly plot\n",
    "#for eg x[t1,t2] = [[p1,p1],[20,30],[1000,5000]]\n",
    "time = [];value = [];country=[];province= []\n",
    "col_value = list(data.columns)\n",
    "for i in range(len(data)):\n",
    "    row_value = list(data.iloc[i])\n",
    "    D = dict(zip(col_value,row_value))\n",
    "    time.extend(timeline)\n",
    "    value.extend(D[t] for t in  timeline)\n",
    "    country.extend(D['Country/Region'] for i in  range(len(timeline)))\n",
    "newdf = pd.DataFrame({'Timeline':time,'Covid-19 impact':value,'Country':country})"
   ]
  },
  {
   "cell_type": "code",
   "execution_count": null,
   "metadata": {},
   "outputs": [],
   "source": [
    "td  = pd.read_csv('time_series_19-covid-Confirmed.csv')\n",
    "td.head()"
   ]
  },
  {
   "cell_type": "code",
   "execution_count": null,
   "metadata": {},
   "outputs": [],
   "source": [
    "newdf['Covid-19 impact'].replace({0:np.nan})\n",
    "newdf.head()\n",
    "newdf.to_csv('timelinedata.csv')\n",
    "fig = px.scatter(newdf, x=\"Timeline\", y=\"Covid-19 impact\", color = 'Country',title = 'Spread of Covid-19 across countries',width=1000)\n",
    "fig.show()\n"
   ]
  },
  {
   "cell_type": "markdown",
   "metadata": {},
   "source": [
    "### Comapritive analysis with SARS"
   ]
  },
  {
   "cell_type": "code",
   "execution_count": null,
   "metadata": {},
   "outputs": [],
   "source": [
    "data = pd.read_csv('time_series_19-covid-Confirmed.csv')\n",
    "timeline = ['1/22/20', '1/23/20',\n",
    "       '1/24/20', '1/25/20', '1/26/20', '1/27/20', '1/28/20', '1/29/20',\n",
    "       '1/30/20', '1/31/20', '2/1/20', '2/2/20', '2/3/20', '2/4/20', '2/5/20',\n",
    "       '2/6/20', '2/7/20', '2/8/20', '2/9/20', '2/10/20', '2/11/20', '2/12/20',\n",
    "       '2/13/20', '2/14/20', '2/15/20', '2/16/20', '2/17/20', '2/18/20',\n",
    "       '2/19/20', '2/20/20', '2/21/20', '2/22/20', '2/23/20', '2/24/20',\n",
    "       '2/25/20', '2/26/20', '2/27/20', '2/28/20', '2/29/20', '3/1/20',\n",
    "       '3/2/20', '3/3/20'] \n",
    "#list of values to append equal to length of x axis  for plotly plot\n",
    "#for eg x[t1,t2] = [[p1,p1],[20,30],[1000,5000]]\n",
    "time = [];value = [];country=[];province= []\n",
    "col_value = list(data.columns)\n",
    "for i in timeline:\n",
    "    time.append(datetime.strptime(i, '%m/%d/%y'))\n",
    "    value.append(data[i].sum())\n",
    "    \n",
    "\n",
    "newdf1 = pd.DataFrame({'Timeline':time,'Covid-19 impact':value})\n",
    "sars = pd.read_excel('sars_final.xlsx'')"
   ]
  },
  {
   "cell_type": "code",
   "execution_count": null,
   "metadata": {},
   "outputs": [],
   "source": [
    "fig = make_subplots(rows=1, cols=2,vertical_spacing=0.02)\n",
    "\n",
    "\n",
    "fig.add_trace(\n",
    "    go.Scatter(x=newdf1[\"Timeline\"], y=newdf1[\"Covid-19 impact\"], name = 'COVID-19'),\n",
    "    row=1, col=1\n",
    ")\n",
    "\n",
    "fig.add_trace(\n",
    "    go.Scatter(x=sars[\"Date\"], y=sars[\"Infected\"], name = 'SARS'),\n",
    "    row=1, col=2\n",
    ")\n",
    "\n",
    "fig.update_xaxes(title_text=\"Timeline (Initial three months)\")\n",
    "\n",
    "\n",
    "fig.update_layout(height=400, width=1100, title_text=\"Impact of COVID-19 vs SARS: Infected Cases\")\n",
    "fig.show()"
   ]
  },
  {
   "cell_type": "code",
   "execution_count": null,
   "metadata": {},
   "outputs": [],
   "source": [
    "fig = make_subplots()\n",
    "\n",
    "fig.add_trace(\n",
    "    go.Scatter(x=newdf1[\"Timeline\"], y=newdf1[\"Covid-19 impact\"], name = 'Infected'))\n",
    "\n",
    "fig.add_trace(\n",
    "    go.Scatter(x=newdf2[\"Timeline\"], y=newdf2[\"Covid-19 impact\"], name = 'Deaths'))\n",
    "\n",
    "fig.add_trace(\n",
    "    go.Scatter(x=newdf3[\"Timeline\"], y=newdf3[\"Covid-19 impact\"], name = 'Recovery'))\n",
    "\n",
    "fig.update_xaxes(title_text=\"Timeline\")\n",
    "\n",
    "\n",
    "fig.update_layout(height=500, width=800, title_text=\"Timline anlaysis of COVID -19 using multiple line chart\")\n",
    "fig.show()"
   ]
  }
 ],
 "metadata": {
  "kernelspec": {
   "display_name": "Python 3",
   "language": "python",
   "name": "python3"
  },
  "language_info": {
   "codemirror_mode": {
    "name": "ipython",
    "version": 3
   },
   "file_extension": ".py",
   "mimetype": "text/x-python",
   "name": "python",
   "nbconvert_exporter": "python",
   "pygments_lexer": "ipython3",
   "version": "3.7.4"
  }
 },
 "nbformat": 4,
 "nbformat_minor": 2
}
